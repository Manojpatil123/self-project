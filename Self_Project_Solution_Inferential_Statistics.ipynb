{
  "nbformat": 4,
  "nbformat_minor": 0,
  "metadata": {
    "colab": {
      "name": " Self Project Solution - Inferential Statistics.ipynb",
      "provenance": [],
      "collapsed_sections": [],
      "include_colab_link": true
    },
    "kernelspec": {
      "name": "python3",
      "display_name": "Python 3"
    }
  },
  "cells": [
    {
      "cell_type": "markdown",
      "metadata": {
        "id": "view-in-github",
        "colab_type": "text"
      },
      "source": [
        "<a href=\"https://colab.research.google.com/github/Manojpatil123/self-project/blob/main/Self_Project_Solution_Inferential_Statistics.ipynb\" target=\"_parent\"><img src=\"https://colab.research.google.com/assets/colab-badge.svg\" alt=\"Open In Colab\"/></a>"
      ]
    },
    {
      "cell_type": "code",
      "metadata": {
        "id": "3esVBW4i70f9"
      },
      "source": [
        "from scipy.stats import uniform\n",
        "from scipy.stats import norm\n",
        "from scipy.stats import chi2\n",
        "from scipy.stats import t\n",
        "from scipy.stats import f\n"
      ],
      "execution_count": null,
      "outputs": []
    },
    {
      "cell_type": "markdown",
      "metadata": {
        "id": "3qjmg__vWv1-"
      },
      "source": [
        "# <b> <u> Use only these imported functions to check the confidence intervals or to obtain P-values </b>"
      ]
    },
    {
      "cell_type": "markdown",
      "metadata": {
        "id": "Oq9OIkpjU3hr"
      },
      "source": [
        "# <b><u> Problem 1 </u> </b>\n",
        "\n",
        "## <b>The average IQ of a sample of $N$ university students was found to be $\\bar{x}$. Write a Python function which performs a statistical test to determine whether the average IQ of university students is greater than $\\mu$, assuming that IQs are normally distributed. It is known from previous studies that the standard deviation of IQs among students is approximately $\\sigma$. This function can take the above parameters as arguments along with the significance level. Check the function outputs for the following input combinations. Also use only the functions imported above to perform the tests.</b>"
      ]
    },
    {
      "cell_type": "markdown",
      "metadata": {
        "id": "DOnHbS5pk6b6"
      },
      "source": [
        "IQs are normally distributed, assumption is statistical Iq  is greater Hypothesis , So the Null hypothesis is the statistics Iq is less then or equal to average POpulation Iq. The Alternative Hypothesis is that the Iq of students are greater than μ"
      ]
    },
    {
      "cell_type": "markdown",
      "metadata": {
        "id": "BWX1CLatfvZO"
      },
      "source": [
        "## **Ho:μ <=X̄**\n",
        "## **Ha:μ >X̄**"
      ]
    },
    {
      "cell_type": "code",
      "metadata": {
        "id": "U7kH7roOPgCb",
        "colab": {
          "base_uri": "https://localhost:8080/"
        },
        "outputId": "2fc2871e-3f41-42f0-8c00-d518a32f6ef2"
      },
      "source": [
        "input_list = [{'sample_size' : 50 , 'sample_mean' : 105 , 'hypothesis_mean' : 100, 'population_std_deviation' : 20, 'significance_level' : 0.05},\n",
        "              {'sample_size' : 100 , 'sample_mean' : 102 , 'hypothesis_mean' : 100, 'population_std_deviation' : 30, 'significance_level' : 0.05},\n",
        "              {'sample_size' : 500 , 'sample_mean' : 110 , 'hypothesis_mean' : 100, 'population_std_deviation' : 10, 'significance_level' : 0.01}]\n",
        "# Your code here\n",
        "\n",
        "def check_hypo(hypothesis_mean,population_std_deviation,sample_mean,sample_size,significance_level):\n",
        "    \"\"\"checks Statical mean of students Iq is greater than the hypothesis_mean \"\"\"\n",
        "    zvalue=(sample_mean-hypothesis_mean)/(population_std_deviation/((sample_size)**0.5))  #  geting the z-score\n",
        "\n",
        "    p_value=1-norm.cdf(zvalue,0,1)                                              # calculating P-value\n",
        "    if p_value>significance_level:\n",
        "        \"\"\"comparing pvalue with the significance level with \"\"\"\n",
        "\n",
        "        print(f'Since the P-value {round(p_value,2)} which is greater than significance level of  {significance_level} we fail to reject null hypothesis')\n",
        "    else:\n",
        "        print(f'Since the P-value {round(p_value,2)} which is less than significance level of  {significance_level} we reject null hypothesis')\n",
        "\n",
        "\n",
        "#Applying the test on given data\n",
        "for data in range(len(input_list)):\n",
        "    check_hypo(input_list[data]['hypothesis_mean'],input_list[data]['population_std_deviation'],\n",
        "               input_list[data]['sample_mean'],input_list[data]['sample_size'],input_list[data]['significance_level'])\n",
        "    "
      ],
      "execution_count": null,
      "outputs": [
        {
          "output_type": "stream",
          "text": [
            "Since the P-value 0.04 which is less than significance level of  0.05 we reject null hypothesis\n",
            "Since the P-value 0.25 which is greater than significance level of  0.05 we fail to reject null hypothesis\n",
            "Since the P-value 0.0 which is less than significance level of  0.01 we reject null hypothesis\n"
          ],
          "name": "stdout"
        }
      ]
    },
    {
      "cell_type": "markdown",
      "metadata": {
        "id": "1ECG-HvyQ01v"
      },
      "source": [
        "# <b><u> Problem 2 </u> </b>\n",
        "\n",
        "## <b>Write a Python function to perform a statistical test to assess whether the standard deviation of the heights of 10- year-old children is equal to $\\sigma$ cm, based on the random sample of $N$ where $N$ < 20 heights in cm. You can use numpy functionality to generate the list of N heights between 120 and 140 which follow the normal distribution. You can use <code>np.randn() </code> to generate the sample heights. Your code should print all the possible conclusions based on the tests. Check the function outputs for N = 10, 15, 18. Also you can take values of $\\sigma$ to be 3, 4 and 5 respectively </b>"
      ]
    },
    {
      "cell_type": "markdown",
      "metadata": {
        "id": "av2tYYKYM6Ku"
      },
      "source": [
        "We can design our null hypothesis Such that the population standard deviation is equal to that of statistics Sample \n",
        "\n",
        "**Ho : σ = S**\n",
        "\n",
        "**Ho : σ ≠ S**\n"
      ]
    },
    {
      "cell_type": "code",
      "metadata": {
        "id": "Cg8Um9lnSHtB",
        "colab": {
          "base_uri": "https://localhost:8080/"
        },
        "outputId": "4823f3e4-04ca-413c-ff6a-a052ec724162"
      },
      "source": [
        "# Your code here \n",
        "import numpy as np\n",
        "\n",
        "\n",
        "input_list = [{'sample_size' : 10 , 'hypothesis_std_dev' : 3,  'significance_level' : 0.05},\n",
        "              {'sample_size' : 15 , 'hypothesis_std_dev' : 4,  'significance_level' : 0.05},\n",
        "              {'sample_size' : 18  , 'hypothesis_std_dev' : 5,  'significance_level' : 0.01}]\n",
        "\n",
        "def check_variance(data):\n",
        "    \"\"\"COMPARES THE VARIANCE OF THE POPULATION AND STATISTICS IF VARIANCE IS EQUAL THE NULL HYPOTHESIS CAN'T BE REJECTED\"\"\"\n",
        "\n",
        "    hieghts=120+20*norm.cdf(np.random.randn(data['sample_size']))                  # creating normally distributed numbers (120-140)\n",
        "    sample_mean=sum(hieghts)/len(hieghts)\n",
        "    sample_variance=((hieghts-sample_mean)**2).sum()/(len(hieghts)-1)           # calculating the sample variance for data genrated\n",
        "\n",
        "    chi_squared_value=(data['sample_size']-1)*sample_variance/(data['hypothesis_std_dev' ]**2)  \n",
        "    p_value=2*(1-chi2.cdf(chi_squared_value,(data['sample_size']-1)))           #  the P-value for the test\n",
        "\n",
        "    if p_value > data['significance_level']:            \n",
        "        \"\"\"comparing pvalue with the significance level with \"\"\"\n",
        "        print(f'Since the P-value {round(p_value,3)} which is greater than significance level of  {data[\"significance_level\"]} we fail to reject null hypothesis')\n",
        "    else:\n",
        "        print(f'Since the P-value {round(p_value,3)} which is less than significance level of  {data[\"significance_level\"]} we reject null hypothesis')\n",
        "\n",
        "\n",
        "\n",
        "\n",
        "\n",
        "#Applying function \n",
        "for data in input_list:\n",
        "    check_variance(data)\n"
      ],
      "execution_count": null,
      "outputs": [
        {
          "output_type": "stream",
          "text": [
            "Since the P-value 0.0 which is less than significance level of  0.05 we reject null hypothesis\n",
            "Since the P-value 0.54 which is greater than significance level of  0.05 we fail to reject null hypothesis\n",
            "Since the P-value 0.022 which is greater than significance level of  0.01 we fail to reject null hypothesis\n"
          ],
          "name": "stdout"
        }
      ]
    },
    {
      "cell_type": "markdown",
      "metadata": {
        "id": "X7bIJKrivZ_T"
      },
      "source": [
        "# <b><u> Problem 3 </u></b>\n",
        "\n",
        "# <b> In a one-year mortality investigation, $m$ of the $M$ ninety-year-old males and $f$ of the $F$ ninety-year-old females present at the start of the investigation died before the end of the year. Assuming that the numbers of deaths follow binomial distributions, write a Python function to test whether there is a difference between male and female mortality rates at this age.</b>"
      ]
    },
    {
      "cell_type": "markdown",
      "metadata": {
        "id": "z3K8S9Iofl1J"
      },
      "source": [
        "WE are making the assumption taht mortality rate of males are equal to that of females \n",
        "\n",
        "## **Ho:P = P_cap**\n",
        "## **Ha:P ≠ P_cap**"
      ]
    },
    {
      "cell_type": "code",
      "metadata": {
        "id": "-cGOyeDnTqyH",
        "colab": {
          "base_uri": "https://localhost:8080/"
        },
        "outputId": "be052b21-b4a3-4a38-e887-49820ec26465"
      },
      "source": [
        "# Your code here \n",
        "input_list = [{'dead_males' : 25 , 'males' : 100,  'dead_females' : 20, 'females' : 150 ,  'significance_level' : 0.05},\n",
        "              {'dead_males' : 30 , 'males' : 110,  'dead_females' : 20, 'females' : 160 ,  'significance_level' : 0.05},\n",
        "              {'dead_males' : 20 , 'males' : 100,  'dead_females' : 20, 'females' : 120 ,  'significance_level' : 0.01}]\n",
        "\n",
        "def check_mortality_rate (data):\n",
        "    \"\"\"checks the ,mortality rate of males are equal to that of females\"\"\"\n",
        "    theta1=data['dead_males']/data['males']\n",
        "    n1=data['males']\n",
        "    theta2=data['dead_females']/data['females']\n",
        "    n2=data['females']\n",
        "    z=(theta1-theta2) / ((((theta1*(1-theta1))/n1)+((theta2*(1-theta2))/n2))**0.5)\n",
        "\n",
        "    p_value=2*(1-norm.cdf(z))\n",
        "    if p_value > data['significance_level']:\n",
        "        \"\"\"comparing pvalue with the significance level with \"\"\"\n",
        "\n",
        "        print(f'Since the P-value {round(p_value,3)} which is greater than significance level of  {data[\"significance_level\"]} we fail to reject null hypothesis')\n",
        "    else:\n",
        "        print(f'Since the P-value {round(p_value,3)} which is less than significance level of  {data[\"significance_level\"]} we reject null hypothesis')\n",
        "\n",
        "\n",
        "for data in input_list:\n",
        "    check_mortality_rate(data)\n"
      ],
      "execution_count": null,
      "outputs": [
        {
          "output_type": "stream",
          "text": [
            "Since the P-value 0.023 which is less than significance level of  0.05 we reject null hypothesis\n",
            "Since the P-value 0.003 which is less than significance level of  0.05 we reject null hypothesis\n",
            "Since the P-value 0.526 which is greater than significance level of  0.01 we fail to reject null hypothesis\n"
          ],
          "name": "stdout"
        }
      ]
    },
    {
      "cell_type": "code",
      "metadata": {
        "id": "TRiHuyUZEfA8"
      },
      "source": [
        ""
      ],
      "execution_count": null,
      "outputs": []
    }
  ]
}